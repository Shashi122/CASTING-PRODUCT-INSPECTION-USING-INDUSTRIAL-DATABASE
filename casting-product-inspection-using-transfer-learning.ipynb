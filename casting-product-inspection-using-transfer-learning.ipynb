{
 "cells": [
  {
   "cell_type": "code",
   "execution_count": 1,
   "metadata": {
    "_cell_guid": "b1076dfc-b9ad-4769-8c92-a6c4dae69d19",
    "_uuid": "8f2839f25d086af736a60e9eeb907d3b93b6e0e5",
    "execution": {
     "iopub.execute_input": "2020-12-17T06:26:03.187485Z",
     "iopub.status.busy": "2020-12-17T06:26:03.186816Z",
     "iopub.status.idle": "2020-12-17T06:26:09.744358Z",
     "shell.execute_reply": "2020-12-17T06:26:09.743249Z"
    },
    "papermill": {
     "duration": 6.590399,
     "end_time": "2020-12-17T06:26:09.744490",
     "exception": false,
     "start_time": "2020-12-17T06:26:03.154091",
     "status": "completed"
    },
    "tags": []
   },
   "outputs": [],
   "source": [
    "# import the libraries as shown below\n",
    "import keras\n",
    "from keras import optimizers\n",
    "from tensorflow.keras.layers import Input, Lambda, Dense, Flatten,Conv2D\n",
    "from tensorflow.keras.models import Model\n",
    "from tensorflow.keras.applications.vgg19 import VGG19\n",
    "import numpy as np\n",
    "from glob import glob\n",
    "from tensorflow.keras.preprocessing.image import ImageDataGenerator,load_img\n",
    "from tensorflow.keras.applications.resnet50 import preprocess_input\n",
    "from tensorflow.keras.preprocessing import image\n",
    "import matplotlib.pyplot as plt\n",
    "from tensorflow.keras.models import Sequential"
   ]
  },
  {
   "cell_type": "code",
   "execution_count": 2,
   "metadata": {
    "execution": {
     "iopub.execute_input": "2020-12-17T06:26:09.800826Z",
     "iopub.status.busy": "2020-12-17T06:26:09.800112Z",
     "iopub.status.idle": "2020-12-17T06:26:14.633057Z",
     "shell.execute_reply": "2020-12-17T06:26:14.631846Z"
    },
    "papermill": {
     "duration": 4.865599,
     "end_time": "2020-12-17T06:26:14.633209",
     "exception": false,
     "start_time": "2020-12-17T06:26:09.767610",
     "status": "completed"
    },
    "tags": []
   },
   "outputs": [
    {
     "name": "stdout",
     "output_type": "stream",
     "text": [
      "Downloading data from https://storage.googleapis.com/tensorflow/keras-applications/vgg19/vgg19_weights_tf_dim_ordering_tf_kernels_notop.h5\n",
      "80142336/80134624 [==============================] - 1s 0us/step\n"
     ]
    }
   ],
   "source": [
    "# Import the Vgg 19 library as shown below and add preprocessing layer to the front of VGG\n",
    "# Here we will be using imagenet weights\n",
    "\n",
    "image_size=[224,224]\n",
    "vgg = VGG19(input_shape=image_size + [3], weights='imagenet', include_top=False)"
   ]
  },
  {
   "cell_type": "code",
   "execution_count": 3,
   "metadata": {
    "execution": {
     "iopub.execute_input": "2020-12-17T06:26:14.700817Z",
     "iopub.status.busy": "2020-12-17T06:26:14.698990Z",
     "iopub.status.idle": "2020-12-17T06:26:14.701520Z",
     "shell.execute_reply": "2020-12-17T06:26:14.702056Z"
    },
    "papermill": {
     "duration": 0.038906,
     "end_time": "2020-12-17T06:26:14.702184",
     "exception": false,
     "start_time": "2020-12-17T06:26:14.663278",
     "status": "completed"
    },
    "tags": []
   },
   "outputs": [],
   "source": [
    "# don't train existing weights\n",
    "for layer in vgg.layers:\n",
    "    layer.trainable = False"
   ]
  },
  {
   "cell_type": "code",
   "execution_count": 4,
   "metadata": {
    "execution": {
     "iopub.execute_input": "2020-12-17T06:26:14.764741Z",
     "iopub.status.busy": "2020-12-17T06:26:14.763984Z",
     "iopub.status.idle": "2020-12-17T06:26:14.775879Z",
     "shell.execute_reply": "2020-12-17T06:26:14.775342Z"
    },
    "papermill": {
     "duration": 0.045417,
     "end_time": "2020-12-17T06:26:14.775982",
     "exception": false,
     "start_time": "2020-12-17T06:26:14.730565",
     "status": "completed"
    },
    "tags": []
   },
   "outputs": [],
   "source": [
    "# useful for getting number of output classes\n",
    "folders = glob('../input/real-life-industrial-dataset-of-casting-product/casting_data/casting_data/train/*')"
   ]
  },
  {
   "cell_type": "code",
   "execution_count": 5,
   "metadata": {
    "execution": {
     "iopub.execute_input": "2020-12-17T06:26:14.848110Z",
     "iopub.status.busy": "2020-12-17T06:26:14.847095Z",
     "iopub.status.idle": "2020-12-17T06:26:14.854228Z",
     "shell.execute_reply": "2020-12-17T06:26:14.853529Z"
    },
    "papermill": {
     "duration": 0.048221,
     "end_time": "2020-12-17T06:26:14.854348",
     "exception": false,
     "start_time": "2020-12-17T06:26:14.806127",
     "status": "completed"
    },
    "tags": []
   },
   "outputs": [],
   "source": [
    "#folders"
   ]
  },
  {
   "cell_type": "code",
   "execution_count": 6,
   "metadata": {
    "execution": {
     "iopub.execute_input": "2020-12-17T06:26:14.924555Z",
     "iopub.status.busy": "2020-12-17T06:26:14.923592Z",
     "iopub.status.idle": "2020-12-17T06:26:14.957979Z",
     "shell.execute_reply": "2020-12-17T06:26:14.957075Z"
    },
    "papermill": {
     "duration": 0.073258,
     "end_time": "2020-12-17T06:26:14.958096",
     "exception": false,
     "start_time": "2020-12-17T06:26:14.884838",
     "status": "completed"
    },
    "tags": []
   },
   "outputs": [],
   "source": [
    "# our layers - you can add more if you want\n",
    "x = Flatten()(vgg.output)\n",
    "layer = Dense(128, activation=\"relu\", kernel_initializer=\"he_uniform\")(x)\n",
    "layer = Dense(64, activation=\"relu\", kernel_initializer=\"he_uniform\")(layer)\n",
    "layer = Dense(32, activation=\"relu\", kernel_initializer=\"he_uniform\")(layer)\n",
    "layer = Dense(16, activation=\"relu\", kernel_initializer=\"he_uniform\")(layer)"
   ]
  },
  {
   "cell_type": "code",
   "execution_count": 7,
   "metadata": {
    "execution": {
     "iopub.execute_input": "2020-12-17T06:26:15.026905Z",
     "iopub.status.busy": "2020-12-17T06:26:15.025963Z",
     "iopub.status.idle": "2020-12-17T06:26:15.043543Z",
     "shell.execute_reply": "2020-12-17T06:26:15.044077Z"
    },
    "papermill": {
     "duration": 0.055509,
     "end_time": "2020-12-17T06:26:15.044215",
     "exception": false,
     "start_time": "2020-12-17T06:26:14.988706",
     "status": "completed"
    },
    "tags": []
   },
   "outputs": [],
   "source": [
    "prediction = Dense(len(folders), activation='softmax')(layer)\n",
    "\n",
    "# create a model object\n",
    "model = Model(inputs=vgg.input, outputs=prediction)"
   ]
  },
  {
   "cell_type": "code",
   "execution_count": 8,
   "metadata": {
    "execution": {
     "iopub.execute_input": "2020-12-17T06:26:15.130351Z",
     "iopub.status.busy": "2020-12-17T06:26:15.129203Z",
     "iopub.status.idle": "2020-12-17T06:26:15.136509Z",
     "shell.execute_reply": "2020-12-17T06:26:15.131289Z"
    },
    "papermill": {
     "duration": 0.05333,
     "end_time": "2020-12-17T06:26:15.136727",
     "exception": false,
     "start_time": "2020-12-17T06:26:15.083397",
     "status": "completed"
    },
    "tags": []
   },
   "outputs": [
    {
     "name": "stdout",
     "output_type": "stream",
     "text": [
      "Model: \"functional_1\"\n",
      "_________________________________________________________________\n",
      "Layer (type)                 Output Shape              Param #   \n",
      "=================================================================\n",
      "input_1 (InputLayer)         [(None, 224, 224, 3)]     0         \n",
      "_________________________________________________________________\n",
      "block1_conv1 (Conv2D)        (None, 224, 224, 64)      1792      \n",
      "_________________________________________________________________\n",
      "block1_conv2 (Conv2D)        (None, 224, 224, 64)      36928     \n",
      "_________________________________________________________________\n",
      "block1_pool (MaxPooling2D)   (None, 112, 112, 64)      0         \n",
      "_________________________________________________________________\n",
      "block2_conv1 (Conv2D)        (None, 112, 112, 128)     73856     \n",
      "_________________________________________________________________\n",
      "block2_conv2 (Conv2D)        (None, 112, 112, 128)     147584    \n",
      "_________________________________________________________________\n",
      "block2_pool (MaxPooling2D)   (None, 56, 56, 128)       0         \n",
      "_________________________________________________________________\n",
      "block3_conv1 (Conv2D)        (None, 56, 56, 256)       295168    \n",
      "_________________________________________________________________\n",
      "block3_conv2 (Conv2D)        (None, 56, 56, 256)       590080    \n",
      "_________________________________________________________________\n",
      "block3_conv3 (Conv2D)        (None, 56, 56, 256)       590080    \n",
      "_________________________________________________________________\n",
      "block3_conv4 (Conv2D)        (None, 56, 56, 256)       590080    \n",
      "_________________________________________________________________\n",
      "block3_pool (MaxPooling2D)   (None, 28, 28, 256)       0         \n",
      "_________________________________________________________________\n",
      "block4_conv1 (Conv2D)        (None, 28, 28, 512)       1180160   \n",
      "_________________________________________________________________\n",
      "block4_conv2 (Conv2D)        (None, 28, 28, 512)       2359808   \n",
      "_________________________________________________________________\n",
      "block4_conv3 (Conv2D)        (None, 28, 28, 512)       2359808   \n",
      "_________________________________________________________________\n",
      "block4_conv4 (Conv2D)        (None, 28, 28, 512)       2359808   \n",
      "_________________________________________________________________\n",
      "block4_pool (MaxPooling2D)   (None, 14, 14, 512)       0         \n",
      "_________________________________________________________________\n",
      "block5_conv1 (Conv2D)        (None, 14, 14, 512)       2359808   \n",
      "_________________________________________________________________\n",
      "block5_conv2 (Conv2D)        (None, 14, 14, 512)       2359808   \n",
      "_________________________________________________________________\n",
      "block5_conv3 (Conv2D)        (None, 14, 14, 512)       2359808   \n",
      "_________________________________________________________________\n",
      "block5_conv4 (Conv2D)        (None, 14, 14, 512)       2359808   \n",
      "_________________________________________________________________\n",
      "block5_pool (MaxPooling2D)   (None, 7, 7, 512)         0         \n",
      "_________________________________________________________________\n",
      "flatten (Flatten)            (None, 25088)             0         \n",
      "_________________________________________________________________\n",
      "dense (Dense)                (None, 128)               3211392   \n",
      "_________________________________________________________________\n",
      "dense_1 (Dense)              (None, 64)                8256      \n",
      "_________________________________________________________________\n",
      "dense_2 (Dense)              (None, 32)                2080      \n",
      "_________________________________________________________________\n",
      "dense_3 (Dense)              (None, 16)                528       \n",
      "_________________________________________________________________\n",
      "dense_4 (Dense)              (None, 2)                 34        \n",
      "=================================================================\n",
      "Total params: 23,246,674\n",
      "Trainable params: 3,222,290\n",
      "Non-trainable params: 20,024,384\n",
      "_________________________________________________________________\n"
     ]
    }
   ],
   "source": [
    "\n",
    "# view the structure of the model\n",
    "model.summary()"
   ]
  },
  {
   "cell_type": "code",
   "execution_count": 9,
   "metadata": {
    "execution": {
     "iopub.execute_input": "2020-12-17T06:26:15.251127Z",
     "iopub.status.busy": "2020-12-17T06:26:15.250411Z",
     "iopub.status.idle": "2020-12-17T06:26:15.260211Z",
     "shell.execute_reply": "2020-12-17T06:26:15.259105Z"
    },
    "papermill": {
     "duration": 0.089282,
     "end_time": "2020-12-17T06:26:15.260329",
     "exception": false,
     "start_time": "2020-12-17T06:26:15.171047",
     "status": "completed"
    },
    "tags": []
   },
   "outputs": [],
   "source": [
    "# tell the model what cost and optimization method to use\n",
    "model.compile(\n",
    " loss='binary_crossentropy',\n",
    " optimizer=keras.optimizers.Adam(lr=3e-4),\n",
    "  metrics=['accuracy']\n",
    ")"
   ]
  },
  {
   "cell_type": "code",
   "execution_count": 10,
   "metadata": {
    "execution": {
     "iopub.execute_input": "2020-12-17T06:26:15.334241Z",
     "iopub.status.busy": "2020-12-17T06:26:15.332253Z",
     "iopub.status.idle": "2020-12-17T06:26:15.334920Z",
     "shell.execute_reply": "2020-12-17T06:26:15.335381Z"
    },
    "papermill": {
     "duration": 0.042385,
     "end_time": "2020-12-17T06:26:15.335520",
     "exception": false,
     "start_time": "2020-12-17T06:26:15.293135",
     "status": "completed"
    },
    "tags": []
   },
   "outputs": [],
   "source": [
    "# Use the Image Data Generator to import the images from the dataset\n",
    "from tensorflow.keras.preprocessing.image import ImageDataGenerator\n",
    "\n",
    "train_datagen = ImageDataGenerator(rescale = 1./255,\n",
    "                                   shear_range = 0.2,\n",
    "                                   zoom_range = 0.2,\n",
    "                                   horizontal_flip = True)\n",
    "\n",
    "test_datagen = ImageDataGenerator(rescale = 1./255)"
   ]
  },
  {
   "cell_type": "code",
   "execution_count": 11,
   "metadata": {
    "execution": {
     "iopub.execute_input": "2020-12-17T06:26:15.405015Z",
     "iopub.status.busy": "2020-12-17T06:26:15.404024Z",
     "iopub.status.idle": "2020-12-17T06:26:18.489320Z",
     "shell.execute_reply": "2020-12-17T06:26:18.488803Z"
    },
    "papermill": {
     "duration": 3.12168,
     "end_time": "2020-12-17T06:26:18.489430",
     "exception": false,
     "start_time": "2020-12-17T06:26:15.367750",
     "status": "completed"
    },
    "tags": []
   },
   "outputs": [
    {
     "name": "stdout",
     "output_type": "stream",
     "text": [
      "Found 6633 images belonging to 2 classes.\n"
     ]
    }
   ],
   "source": [
    "# Make sure you provide the same target size as initialied for the image size\n",
    "training_set = train_datagen.flow_from_directory('../input/real-life-industrial-dataset-of-casting-product/casting_data/casting_data/train',\n",
    "                                                 target_size = (224, 224),\n",
    "                                                 batch_size = 100,\n",
    "                                                 class_mode = 'binary')"
   ]
  },
  {
   "cell_type": "code",
   "execution_count": 12,
   "metadata": {
    "execution": {
     "iopub.execute_input": "2020-12-17T06:26:18.560528Z",
     "iopub.status.busy": "2020-12-17T06:26:18.559820Z",
     "iopub.status.idle": "2020-12-17T06:26:18.563502Z",
     "shell.execute_reply": "2020-12-17T06:26:18.564248Z"
    },
    "papermill": {
     "duration": 0.041449,
     "end_time": "2020-12-17T06:26:18.564409",
     "exception": false,
     "start_time": "2020-12-17T06:26:18.522960",
     "status": "completed"
    },
    "tags": []
   },
   "outputs": [
    {
     "name": "stdout",
     "output_type": "stream",
     "text": [
      "{'def_front': 0, 'ok_front': 1}\n"
     ]
    }
   ],
   "source": [
    "print(training_set.class_indices)"
   ]
  },
  {
   "cell_type": "code",
   "execution_count": 13,
   "metadata": {
    "execution": {
     "iopub.execute_input": "2020-12-17T06:26:18.636047Z",
     "iopub.status.busy": "2020-12-17T06:26:18.635187Z",
     "iopub.status.idle": "2020-12-17T06:26:18.744118Z",
     "shell.execute_reply": "2020-12-17T06:26:18.745239Z"
    },
    "papermill": {
     "duration": 0.14681,
     "end_time": "2020-12-17T06:26:18.745374",
     "exception": false,
     "start_time": "2020-12-17T06:26:18.598564",
     "status": "completed"
    },
    "tags": []
   },
   "outputs": [
    {
     "name": "stdout",
     "output_type": "stream",
     "text": [
      "Found 715 images belonging to 2 classes.\n"
     ]
    }
   ],
   "source": [
    "test_set = test_datagen.flow_from_directory('../input/real-life-industrial-dataset-of-casting-product/casting_data/casting_data/test',\n",
    "                                            target_size = (224, 224),\n",
    "                                            batch_size = 100,\n",
    "                                            class_mode = 'binary')"
   ]
  },
  {
   "cell_type": "code",
   "execution_count": 14,
   "metadata": {
    "execution": {
     "iopub.execute_input": "2020-12-17T06:26:18.818706Z",
     "iopub.status.busy": "2020-12-17T06:26:18.818044Z",
     "iopub.status.idle": "2020-12-17T06:43:54.264539Z",
     "shell.execute_reply": "2020-12-17T06:43:54.265348Z"
    },
    "papermill": {
     "duration": 1055.487276,
     "end_time": "2020-12-17T06:43:54.265573",
     "exception": false,
     "start_time": "2020-12-17T06:26:18.778297",
     "status": "completed"
    },
    "tags": []
   },
   "outputs": [
    {
     "name": "stdout",
     "output_type": "stream",
     "text": [
      "Epoch 1/10\n",
      "67/67 [==============================] - 130s 2s/step - loss: 0.6977 - accuracy: 0.5206 - val_loss: 0.6932 - val_accuracy: 0.4923\n",
      "Epoch 2/10\n",
      "67/67 [==============================] - 102s 2s/step - loss: 0.6932 - accuracy: 0.5082 - val_loss: 0.6932 - val_accuracy: 0.4783\n",
      "Epoch 3/10\n",
      "67/67 [==============================] - 108s 2s/step - loss: 0.6932 - accuracy: 0.5010 - val_loss: 0.6932 - val_accuracy: 0.4741\n",
      "Epoch 4/10\n",
      "67/67 [==============================] - 102s 2s/step - loss: 0.6932 - accuracy: 0.5096 - val_loss: 0.6932 - val_accuracy: 0.4951\n",
      "Epoch 5/10\n",
      "67/67 [==============================] - 100s 1s/step - loss: 0.6932 - accuracy: 0.5082 - val_loss: 0.6932 - val_accuracy: 0.4699\n",
      "Epoch 6/10\n",
      "67/67 [==============================] - 99s 1s/step - loss: 0.6932 - accuracy: 0.5052 - val_loss: 0.6932 - val_accuracy: 0.4937\n",
      "Epoch 7/10\n",
      "67/67 [==============================] - 98s 1s/step - loss: 0.6932 - accuracy: 0.5007 - val_loss: 0.6932 - val_accuracy: 0.5021\n",
      "Epoch 8/10\n",
      "67/67 [==============================] - 98s 1s/step - loss: 0.6932 - accuracy: 0.5046 - val_loss: 0.6932 - val_accuracy: 0.5343\n",
      "Epoch 9/10\n",
      "67/67 [==============================] - 97s 1s/step - loss: 0.6932 - accuracy: 0.4924 - val_loss: 0.6932 - val_accuracy: 0.5203\n",
      "Epoch 10/10\n",
      "67/67 [==============================] - 96s 1s/step - loss: 0.6932 - accuracy: 0.5029 - val_loss: 0.6932 - val_accuracy: 0.5413\n"
     ]
    }
   ],
   "source": [
    "# fit the model\n",
    "# Run the cell. It will take some time to execute\n",
    "fit = model.fit_generator(\n",
    "  training_set,\n",
    "  validation_data=test_set,\n",
    "  epochs=10,\n",
    "  steps_per_epoch=len(training_set),\n",
    "  validation_steps=len(test_set)\n",
    ")"
   ]
  },
  {
   "cell_type": "code",
   "execution_count": 15,
   "metadata": {
    "execution": {
     "iopub.execute_input": "2020-12-17T06:43:54.927123Z",
     "iopub.status.busy": "2020-12-17T06:43:54.925644Z",
     "iopub.status.idle": "2020-12-17T06:43:55.288292Z",
     "shell.execute_reply": "2020-12-17T06:43:55.288851Z"
    },
    "papermill": {
     "duration": 0.666084,
     "end_time": "2020-12-17T06:43:55.289013",
     "exception": false,
     "start_time": "2020-12-17T06:43:54.622929",
     "status": "completed"
    },
    "tags": []
   },
   "outputs": [
    {
     "data": {
      "image/png": "[encoded data removed]",
      "text/plain": [
       "<Figure size 432x288 with 1 Axes>"
      ]
     },
     "metadata": {
      "needs_background": "light"
     },
     "output_type": "display_data"
    },
    {
     "data": {
      "image/png": "[encoded data removed]",
      "text/plain": [
       "<Figure size 432x288 with 1 Axes>"
      ]
     },
     "metadata": {
      "needs_background": "light"
     },
     "output_type": "display_data"
    },
    {
     "data": {
      "text/plain": [
       "<Figure size 432x288 with 0 Axes>"
      ]
     },
     "metadata": {},
     "output_type": "display_data"
    }
   ],
   "source": [
    "# plot the loss\n",
    "import matplotlib.pyplot as plt\n",
    "\n",
    "plt.plot(fit.history['loss'], label='train loss')\n",
    "plt.plot(fit.history['val_loss'], label='val loss')\n",
    "plt.legend()\n",
    "plt.show()\n",
    "plt.savefig('LossVal_loss')\n",
    "\n",
    "# plot the accuracy\n",
    "plt.plot(fit.history['accuracy'], label='train acc')\n",
    "plt.plot(fit.history['val_accuracy'], label='val acc')\n",
    "plt.legend()\n",
    "plt.show()\n",
    "plt.savefig('AccVal_acc')"
   ]
  },
  {
   "cell_type": "code",
   "execution_count": 16,
   "metadata": {
    "execution": {
     "iopub.execute_input": "2020-12-17T06:43:55.869985Z",
     "iopub.status.busy": "2020-12-17T06:43:55.868990Z",
     "iopub.status.idle": "2020-12-17T06:43:56.061803Z",
     "shell.execute_reply": "2020-12-17T06:43:56.061252Z"
    },
    "papermill": {
     "duration": 0.479892,
     "end_time": "2020-12-17T06:43:56.061927",
     "exception": false,
     "start_time": "2020-12-17T06:43:55.582035",
     "status": "completed"
    },
    "tags": []
   },
   "outputs": [],
   "source": [
    "# save it as a h5 file\n",
    "\n",
    "\n",
    "from tensorflow.keras.models import load_model\n",
    "\n",
    "model.save('model_vgg19.h5')"
   ]
  },
  {
   "cell_type": "code",
   "execution_count": 17,
   "metadata": {
    "execution": {
     "iopub.execute_input": "2020-12-17T06:43:56.607232Z",
     "iopub.status.busy": "2020-12-17T06:43:56.606307Z",
     "iopub.status.idle": "2020-12-17T06:43:59.507306Z",
     "shell.execute_reply": "2020-12-17T06:43:59.506655Z"
    },
    "papermill": {
     "duration": 3.176307,
     "end_time": "2020-12-17T06:43:59.507434",
     "exception": false,
     "start_time": "2020-12-17T06:43:56.331127",
     "status": "completed"
    },
    "tags": []
   },
   "outputs": [],
   "source": [
    "y_pred = model.predict(test_set)"
   ]
  },
  {
   "cell_type": "code",
   "execution_count": 18,
   "metadata": {
    "execution": {
     "iopub.execute_input": "2020-12-17T06:44:00.057404Z",
     "iopub.status.busy": "2020-12-17T06:44:00.056727Z",
     "iopub.status.idle": "2020-12-17T06:44:00.062367Z",
     "shell.execute_reply": "2020-12-17T06:44:00.061897Z"
    },
    "papermill": {
     "duration": 0.281625,
     "end_time": "2020-12-17T06:44:00.062477",
     "exception": false,
     "start_time": "2020-12-17T06:43:59.780852",
     "status": "completed"
    },
    "tags": []
   },
   "outputs": [
    {
     "data": {
      "text/plain": [
       "array([[0.50126415, 0.49873585],\n",
       "       [0.49973673, 0.5002633 ],\n",
       "       [0.50076926, 0.49923074],\n",
       "       ...,\n",
       "       [0.5010009 , 0.49899912],\n",
       "       [0.49632335, 0.50367665],\n",
       "       [0.50317997, 0.49682   ]], dtype=float32)"
      ]
     },
     "execution_count": 18,
     "metadata": {},
     "output_type": "execute_result"
    }
   ],
   "source": [
    "y_pred"
   ]
  },
  {
   "cell_type": "code",
   "execution_count": 19,
   "metadata": {
    "execution": {
     "iopub.execute_input": "2020-12-17T06:44:00.637554Z",
     "iopub.status.busy": "2020-12-17T06:44:00.635856Z",
     "iopub.status.idle": "2020-12-17T06:44:00.638240Z",
     "shell.execute_reply": "2020-12-17T06:44:00.638724Z"
    },
    "papermill": {
     "duration": 0.280518,
     "end_time": "2020-12-17T06:44:00.638864",
     "exception": false,
     "start_time": "2020-12-17T06:44:00.358346",
     "status": "completed"
    },
    "tags": []
   },
   "outputs": [],
   "source": [
    "import numpy as np\n",
    "y_pred = np.argmax(y_pred, axis=1)"
   ]
  },
  {
   "cell_type": "code",
   "execution_count": 20,
   "metadata": {
    "execution": {
     "iopub.execute_input": "2020-12-17T06:44:01.197617Z",
     "iopub.status.busy": "2020-12-17T06:44:01.196894Z",
     "iopub.status.idle": "2020-12-17T06:44:01.200650Z",
     "shell.execute_reply": "2020-12-17T06:44:01.201139Z"
    },
    "papermill": {
     "duration": 0.289164,
     "end_time": "2020-12-17T06:44:01.201263",
     "exception": false,
     "start_time": "2020-12-17T06:44:00.912099",
     "status": "completed"
    },
    "tags": []
   },
   "outputs": [
    {
     "data": {
      "text/plain": [
       "array([0, 1, 0, 0, 0, 1, 0, 0, 1, 0, 1, 0, 0, 0, 0, 0, 0, 0, 1, 0, 1, 0,\n",
       "       1, 0, 1, 0, 0, 0, 0, 0, 0, 0, 0, 0, 1, 0, 1, 0, 0, 0, 0, 0, 0, 0,\n",
       "       0, 1, 0, 0, 0, 0, 0, 1, 1, 1, 1, 0, 0, 0, 1, 0, 0, 1, 1, 1, 0, 1,\n",
       "       0, 0, 1, 0, 0, 1, 0, 1, 1, 0, 0, 0, 0, 0, 0, 1, 1, 0, 0, 0, 0, 1,\n",
       "       0, 0, 1, 1, 1, 1, 0, 1, 0, 1, 1, 0, 1, 0, 0, 1, 0, 1, 0, 0, 0, 1,\n",
       "       1, 0, 0, 1, 0, 1, 0, 0, 0, 1, 1, 0, 1, 0, 0, 0, 1, 0, 0, 0, 0, 0,\n",
       "       0, 0, 0, 0, 1, 0, 0, 0, 0, 1, 0, 0, 0, 1, 0, 1, 0, 0, 0, 1, 0, 0,\n",
       "       1, 1, 0, 0, 0, 0, 0, 0, 0, 0, 0, 0, 1, 0, 0, 0, 1, 0, 1, 0, 0, 1,\n",
       "       0, 0, 1, 0, 1, 1, 0, 0, 0, 0, 1, 0, 0, 0, 0, 1, 1, 1, 1, 0, 0, 0,\n",
       "       0, 0, 0, 0, 1, 0, 0, 0, 1, 1, 0, 1, 0, 1, 0, 0, 1, 0, 0, 0, 0, 1,\n",
       "       0, 0, 0, 1, 0, 1, 0, 0, 0, 0, 1, 0, 0, 0, 0, 0, 0, 1, 0, 1, 0, 1,\n",
       "       0, 1, 1, 1, 1, 1, 0, 0, 1, 1, 1, 0, 0, 1, 0, 0, 0, 0, 0, 0, 0, 0,\n",
       "       0, 0, 0, 1, 0, 0, 0, 0, 0, 1, 0, 0, 0, 0, 0, 1, 0, 1, 1, 0, 0, 0,\n",
       "       1, 0, 0, 0, 0, 1, 0, 1, 1, 0, 1, 1, 0, 0, 0, 1, 0, 1, 0, 0, 0, 0,\n",
       "       0, 0, 0, 1, 0, 0, 0, 0, 1, 0, 0, 0, 0, 1, 0, 0, 0, 1, 0, 0, 0, 0,\n",
       "       0, 1, 0, 0, 0, 0, 1, 0, 0, 1, 0, 1, 0, 0, 0, 0, 0, 1, 0, 1, 0, 0,\n",
       "       0, 0, 1, 0, 1, 0, 1, 0, 0, 0, 0, 0, 1, 0, 0, 1, 0, 0, 1, 0, 0, 0,\n",
       "       1, 0, 1, 1, 0, 0, 0, 0, 1, 1, 0, 0, 0, 0, 0, 0, 0, 0, 1, 1, 0, 0,\n",
       "       0, 0, 1, 0, 1, 0, 0, 0, 0, 0, 0, 0, 0, 1, 0, 1, 0, 0, 1, 0, 0, 1,\n",
       "       1, 0, 0, 0, 1, 1, 1, 1, 1, 0, 0, 0, 1, 0, 0, 1, 1, 0, 1, 0, 0, 0,\n",
       "       0, 1, 1, 1, 0, 0, 0, 0, 0, 0, 0, 0, 0, 0, 0, 0, 1, 0, 1, 0, 0, 1,\n",
       "       0, 1, 1, 0, 0, 0, 0, 0, 1, 0, 0, 1, 0, 1, 0, 0, 0, 0, 1, 0, 1, 0,\n",
       "       0, 0, 0, 0, 1, 0, 0, 0, 0, 1, 0, 0, 0, 0, 0, 0, 0, 0, 1, 0, 0, 0,\n",
       "       0, 1, 0, 0, 0, 0, 0, 1, 1, 0, 0, 1, 0, 1, 0, 0, 0, 0, 0, 0, 0, 0,\n",
       "       0, 0, 0, 0, 0, 0, 1, 0, 1, 0, 1, 0, 0, 0, 0, 1, 0, 1, 1, 0, 0, 0,\n",
       "       0, 0, 0, 0, 0, 0, 0, 0, 1, 0, 0, 0, 1, 0, 1, 0, 0, 1, 1, 0, 0, 0,\n",
       "       0, 0, 0, 0, 0, 0, 0, 1, 1, 0, 0, 0, 0, 0, 1, 0, 0, 0, 0, 0, 0, 1,\n",
       "       0, 0, 0, 0, 0, 0, 0, 0, 1, 0, 1, 0, 0, 1, 0, 0, 0, 1, 1, 0, 0, 0,\n",
       "       1, 0, 0, 0, 0, 0, 0, 1, 0, 0, 0, 1, 0, 1, 0, 0, 1, 1, 0, 0, 0, 1,\n",
       "       0, 0, 0, 0, 1, 1, 1, 0, 0, 0, 0, 1, 0, 0, 0, 0, 1, 1, 0, 1, 1, 0,\n",
       "       0, 1, 0, 0, 0, 0, 1, 0, 0, 1, 0, 0, 0, 0, 0, 0, 0, 0, 0, 0, 1, 0,\n",
       "       0, 1, 0, 0, 1, 0, 0, 0, 0, 0, 1, 0, 0, 0, 1, 0, 0, 0, 0, 0, 0, 0,\n",
       "       0, 0, 1, 0, 0, 0, 0, 0, 0, 1, 0])"
      ]
     },
     "execution_count": 20,
     "metadata": {},
     "output_type": "execute_result"
    }
   ],
   "source": [
    "y_pred"
   ]
  },
  {
   "cell_type": "code",
   "execution_count": 21,
   "metadata": {
    "execution": {
     "iopub.execute_input": "2020-12-17T06:44:01.760548Z",
     "iopub.status.busy": "2020-12-17T06:44:01.758709Z",
     "iopub.status.idle": "2020-12-17T06:44:01.761309Z",
     "shell.execute_reply": "2020-12-17T06:44:01.761810Z"
    },
    "papermill": {
     "duration": 0.282558,
     "end_time": "2020-12-17T06:44:01.761945",
     "exception": false,
     "start_time": "2020-12-17T06:44:01.479387",
     "status": "completed"
    },
    "tags": []
   },
   "outputs": [],
   "source": [
    "from tensorflow.keras.models import load_model\n",
    "from tensorflow.keras.preprocessing import image"
   ]
  },
  {
   "cell_type": "code",
   "execution_count": 22,
   "metadata": {
    "execution": {
     "iopub.execute_input": "2020-12-17T06:44:02.333028Z",
     "iopub.status.busy": "2020-12-17T06:44:02.327441Z",
     "iopub.status.idle": "2020-12-17T06:44:02.705852Z",
     "shell.execute_reply": "2020-12-17T06:44:02.705259Z"
    },
    "papermill": {
     "duration": 0.663704,
     "end_time": "2020-12-17T06:44:02.705992",
     "exception": false,
     "start_time": "2020-12-17T06:44:02.042288",
     "status": "completed"
    },
    "tags": []
   },
   "outputs": [],
   "source": [
    "model=load_model('model_vgg19.h5')"
   ]
  },
  {
   "cell_type": "code",
   "execution_count": 23,
   "metadata": {
    "execution": {
     "iopub.execute_input": "2020-12-17T06:44:03.261946Z",
     "iopub.status.busy": "2020-12-17T06:44:03.261185Z",
     "iopub.status.idle": "2020-12-17T06:44:03.267791Z",
     "shell.execute_reply": "2020-12-17T06:44:03.267245Z"
    },
    "papermill": {
     "duration": 0.286702,
     "end_time": "2020-12-17T06:44:03.267905",
     "exception": false,
     "start_time": "2020-12-17T06:44:02.981203",
     "status": "completed"
    },
    "tags": []
   },
   "outputs": [],
   "source": [
    "#PREDICTING OK CASTING PRODUCT\n",
    "\n",
    "img=image.load_img('../input/real-life-industrial-dataset-of-casting-product/casting_data/casting_data/train/ok_front/cast_ok_0_1140.jpeg',target_size=(224,224))"
   ]
  },
  {
   "cell_type": "code",
   "execution_count": 24,
   "metadata": {
    "execution": {
     "iopub.execute_input": "2020-12-17T06:44:03.856869Z",
     "iopub.status.busy": "2020-12-17T06:44:03.856036Z",
     "iopub.status.idle": "2020-12-17T06:44:03.862470Z",
     "shell.execute_reply": "2020-12-17T06:44:03.861949Z"
    },
    "papermill": {
     "duration": 0.289711,
     "end_time": "2020-12-17T06:44:03.862568",
     "exception": false,
     "start_time": "2020-12-17T06:44:03.572857",
     "status": "completed"
    },
    "tags": []
   },
   "outputs": [
    {
     "data": {
      "text/plain": [
       "array([[[183., 183., 183.],\n",
       "        [183., 183., 183.],\n",
       "        [183., 183., 183.],\n",
       "        ...,\n",
       "        [166., 166., 166.],\n",
       "        [166., 166., 166.],\n",
       "        [167., 167., 167.]],\n",
       "\n",
       "       [[183., 183., 183.],\n",
       "        [183., 183., 183.],\n",
       "        [183., 183., 183.],\n",
       "        ...,\n",
       "        [167., 167., 167.],\n",
       "        [167., 167., 167.],\n",
       "        [167., 167., 167.]],\n",
       "\n",
       "       [[183., 183., 183.],\n",
       "        [183., 183., 183.],\n",
       "        [183., 183., 183.],\n",
       "        ...,\n",
       "        [166., 166., 166.],\n",
       "        [166., 166., 166.],\n",
       "        [164., 164., 164.]],\n",
       "\n",
       "       ...,\n",
       "\n",
       "       [[163., 163., 163.],\n",
       "        [163., 163., 163.],\n",
       "        [163., 163., 163.],\n",
       "        ...,\n",
       "        [141., 141., 141.],\n",
       "        [141., 141., 141.],\n",
       "        [141., 141., 141.]],\n",
       "\n",
       "       [[163., 163., 163.],\n",
       "        [163., 163., 163.],\n",
       "        [163., 163., 163.],\n",
       "        ...,\n",
       "        [141., 141., 141.],\n",
       "        [141., 141., 141.],\n",
       "        [141., 141., 141.]],\n",
       "\n",
       "       [[163., 163., 163.],\n",
       "        [163., 163., 163.],\n",
       "        [163., 163., 163.],\n",
       "        ...,\n",
       "        [141., 141., 141.],\n",
       "        [141., 141., 141.],\n",
       "        [141., 141., 141.]]], dtype=float32)"
      ]
     },
     "execution_count": 24,
     "metadata": {},
     "output_type": "execute_result"
    }
   ],
   "source": [
    "x=image.img_to_array(img)\n",
    "x"
   ]
  },
  {
   "cell_type": "code",
   "execution_count": 25,
   "metadata": {
    "execution": {
     "iopub.execute_input": "2020-12-17T06:44:04.445149Z",
     "iopub.status.busy": "2020-12-17T06:44:04.444348Z",
     "iopub.status.idle": "2020-12-17T06:44:04.447990Z",
     "shell.execute_reply": "2020-12-17T06:44:04.448464Z"
    },
    "papermill": {
     "duration": 0.287684,
     "end_time": "2020-12-17T06:44:04.448583",
     "exception": false,
     "start_time": "2020-12-17T06:44:04.160899",
     "status": "completed"
    },
    "tags": []
   },
   "outputs": [
    {
     "data": {
      "text/plain": [
       "(224, 224, 3)"
      ]
     },
     "execution_count": 25,
     "metadata": {},
     "output_type": "execute_result"
    }
   ],
   "source": [
    "x.shape"
   ]
  },
  {
   "cell_type": "code",
   "execution_count": 26,
   "metadata": {
    "execution": {
     "iopub.execute_input": "2020-12-17T06:44:05.108251Z",
     "iopub.status.busy": "2020-12-17T06:44:05.106540Z",
     "iopub.status.idle": "2020-12-17T06:44:05.114474Z",
     "shell.execute_reply": "2020-12-17T06:44:05.115462Z"
    },
    "papermill": {
     "duration": 0.393786,
     "end_time": "2020-12-17T06:44:05.115990",
     "exception": false,
     "start_time": "2020-12-17T06:44:04.722204",
     "status": "completed"
    },
    "tags": []
   },
   "outputs": [
    {
     "data": {
      "text/plain": [
       "(1, 224, 224, 3)"
      ]
     },
     "execution_count": 26,
     "metadata": {},
     "output_type": "execute_result"
    }
   ],
   "source": [
    "x=np.expand_dims(x,axis=0)\n",
    "img_data=preprocess_input(x)\n",
    "img_data.shape"
   ]
  },
  {
   "cell_type": "code",
   "execution_count": 27,
   "metadata": {
    "execution": {
     "iopub.execute_input": "2020-12-17T06:44:05.820351Z",
     "iopub.status.busy": "2020-12-17T06:44:05.819426Z",
     "iopub.status.idle": "2020-12-17T06:44:06.184240Z",
     "shell.execute_reply": "2020-12-17T06:44:06.183153Z"
    },
    "papermill": {
     "duration": 0.650939,
     "end_time": "2020-12-17T06:44:06.184347",
     "exception": false,
     "start_time": "2020-12-17T06:44:05.533408",
     "status": "completed"
    },
    "tags": []
   },
   "outputs": [
    {
     "data": {
      "text/plain": [
       "array([[0.2724045, 0.7275955]], dtype=float32)"
      ]
     },
     "execution_count": 27,
     "metadata": {},
     "output_type": "execute_result"
    }
   ],
   "source": [
    "model.predict(img_data)"
   ]
  },
  {
   "cell_type": "code",
   "execution_count": 28,
   "metadata": {
    "execution": {
     "iopub.execute_input": "2020-12-17T06:44:06.772995Z",
     "iopub.status.busy": "2020-12-17T06:44:06.772005Z",
     "iopub.status.idle": "2020-12-17T06:44:06.815074Z",
     "shell.execute_reply": "2020-12-17T06:44:06.813999Z"
    },
    "papermill": {
     "duration": 0.325913,
     "end_time": "2020-12-17T06:44:06.815229",
     "exception": false,
     "start_time": "2020-12-17T06:44:06.489316",
     "status": "completed"
    },
    "tags": []
   },
   "outputs": [],
   "source": [
    "a=np.argmax(model.predict(img_data), axis=1)"
   ]
  },
  {
   "cell_type": "code",
   "execution_count": 29,
   "metadata": {
    "execution": {
     "iopub.execute_input": "2020-12-17T06:44:07.380115Z",
     "iopub.status.busy": "2020-12-17T06:44:07.377046Z",
     "iopub.status.idle": "2020-12-17T06:44:07.556614Z",
     "shell.execute_reply": "2020-12-17T06:44:07.556058Z"
    },
    "papermill": {
     "duration": 0.463385,
     "end_time": "2020-12-17T06:44:07.556742",
     "exception": false,
     "start_time": "2020-12-17T06:44:07.093357",
     "status": "completed"
    },
    "tags": []
   },
   "outputs": [
    {
     "name": "stdout",
     "output_type": "stream",
     "text": [
      "OK casting product\n"
     ]
    },
    {
     "data": {
      "image/png": "[encoded data removed]",
      "text/plain": [
       "<Figure size 432x288 with 1 Axes>"
      ]
     },
     "metadata": {
      "needs_background": "light"
     },
     "output_type": "display_data"
    }
   ],
   "source": [
    "if(a==1):\n",
    "    print(\"OK casting product\")\n",
    "    plt.imshow(img)\n",
    "else:\n",
    "    print(\"Defective casting product\")\n",
    "    plt.imshow(img)"
   ]
  },
  {
   "cell_type": "code",
   "execution_count": 30,
   "metadata": {
    "execution": {
     "iopub.execute_input": "2020-12-17T06:44:08.173032Z",
     "iopub.status.busy": "2020-12-17T06:44:08.171340Z",
     "iopub.status.idle": "2020-12-17T06:44:13.119739Z",
     "shell.execute_reply": "2020-12-17T06:44:13.119196Z"
    },
    "papermill": {
     "duration": 5.259883,
     "end_time": "2020-12-17T06:44:13.119927",
     "exception": false,
     "start_time": "2020-12-17T06:44:07.860044",
     "status": "completed"
    },
    "tags": []
   },
   "outputs": [],
   "source": [
    "#y_true and y_pred\n",
    "y_true = np.array([])\n",
    "y_pred = np.array([])\n",
    "\n",
    "i = 0\n",
    "for data, labels in test_set:\n",
    "  i += 1\n",
    "  y = np.argmax(model.predict(data), axis=1)\n",
    "  y_true = np.append(y_true, labels)\n",
    "  y_pred = np.append(y_pred, y)\n",
    "  \n",
    "  if i == test_set.samples // 100 + 1:\n",
    "    break"
   ]
  },
  {
   "cell_type": "code",
   "execution_count": 31,
   "metadata": {
    "execution": {
     "iopub.execute_input": "2020-12-17T06:44:13.678450Z",
     "iopub.status.busy": "2020-12-17T06:44:13.677701Z",
     "iopub.status.idle": "2020-12-17T06:44:14.419327Z",
     "shell.execute_reply": "2020-12-17T06:44:14.418399Z"
    },
    "papermill": {
     "duration": 1.020661,
     "end_time": "2020-12-17T06:44:14.419456",
     "exception": false,
     "start_time": "2020-12-17T06:44:13.398795",
     "status": "completed"
    },
    "tags": []
   },
   "outputs": [
    {
     "name": "stdout",
     "output_type": "stream",
     "text": [
      "[[318 135]\n",
      " [193  69]]\n"
     ]
    }
   ],
   "source": [
    "from sklearn.metrics import confusion_matrix,accuracy_score\n",
    "metrics=confusion_matrix(y_true,y_pred)\n",
    "print(metrics)"
   ]
  },
  {
   "cell_type": "code",
   "execution_count": 32,
   "metadata": {
    "execution": {
     "iopub.execute_input": "2020-12-17T06:44:15.027906Z",
     "iopub.status.busy": "2020-12-17T06:44:15.026855Z",
     "iopub.status.idle": "2020-12-17T06:44:15.032099Z",
     "shell.execute_reply": "2020-12-17T06:44:15.031529Z"
    },
    "papermill": {
     "duration": 0.319535,
     "end_time": "2020-12-17T06:44:15.032228",
     "exception": false,
     "start_time": "2020-12-17T06:44:14.712693",
     "status": "completed"
    },
    "tags": []
   },
   "outputs": [
    {
     "name": "stdout",
     "output_type": "stream",
     "text": [
      "0.5412587412587413\n"
     ]
    }
   ],
   "source": [
    "accuracy=accuracy_score(y_true,y_pred)\n",
    "print(accuracy)"
   ]
  },
  {
   "cell_type": "code",
   "execution_count": null,
   "metadata": {
    "papermill": {
     "duration": 0.28401,
     "end_time": "2020-12-17T06:44:15.603508",
     "exception": false,
     "start_time": "2020-12-17T06:44:15.319498",
     "status": "completed"
    },
    "tags": []
   },
   "outputs": [],
   "source": []
  }
 ],
 "metadata": {
  "kernelspec": {
   "display_name": "Python 3",
   "language": "python",
   "name": "python3"
  },
  "language_info": {
   "codemirror_mode": {
    "name": "ipython",
    "version": 3
   },
   "file_extension": ".py",
   "mimetype": "text/x-python",
   "name": "python",
   "nbconvert_exporter": "python",
   "pygments_lexer": "ipython3",
   "version": "3.7.6"
  },
  "papermill": {
   "duration": 1099.382191,
   "end_time": "2020-12-17T06:44:17.847835",
   "environment_variables": {},
   "exception": null,
   "input_path": "__notebook__.ipynb",
   "output_path": "__notebook__.ipynb",
   "parameters": {},
   "start_time": "2020-12-17T06:25:58.465644",
   "version": "2.1.0"
  }
 },
 "nbformat": 4,
 "nbformat_minor": 4
}
